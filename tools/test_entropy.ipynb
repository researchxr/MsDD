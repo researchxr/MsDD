{
 "cells": [
  {
   "cell_type": "code",
   "execution_count": 1,
   "metadata": {
    "pycharm": {
     "name": "#%%\n"
    }
   },
   "outputs": [
    {
     "name": "stdout",
     "output_type": "stream",
     "text": [
      "2022-06-06 21:50:44.324818\n"
     ]
    }
   ],
   "source": [
    "import sys\n",
    "sys.path.append(\"./MDPP\")\n",
    "import argparse\n",
    "from config.config import Config\n",
    "import numpy as np\n",
    "import networkx as nx\n",
    "import matplotlib.pyplot as plt\n",
    "import pickle as pkl\n",
    "import os\n",
    "from datetime import datetime\n",
    "import math\n",
    "early = 0\n",
    "dataset = \"misinfdect\"\n",
    "cnf = Config(dataset=dataset, version=\"\", early=early)\n",
    "print(datetime.now())"
   ]
  },
  {
   "cell_type": "code",
   "execution_count": 2,
   "metadata": {
    "pycharm": {
     "name": "#%%\n"
    }
   },
   "outputs": [
    {
     "name": "stdout",
     "output_type": "stream",
     "text": [
      "38 122\n"
     ]
    }
   ],
   "source": [
    "from utils.util import read_origin, read_retweets, time_interval\n",
    "\n",
    "datafolder = \"./MDPP/data/misinfdect\"\n",
    "origin = read_origin(cnf.originfolder)\n",
    "fake = read_retweets(cnf.fakefolder)\n",
    "nonfake = read_retweets(cnf.nonfakefolder)\n",
    "\n",
    "\n",
    "def process_samples(Retweet, origin):\n",
    "    degrees = []\n",
    "    for mid, retweets in Retweet:\n",
    "        if mid not in origin:\n",
    "            continue\n",
    "        mids = [mid]\n",
    "        rel = {}\n",
    "        for retweet in retweets:\n",
    "            r_id = retweet[\"mid\"]\n",
    "            mids.append(r_id)\n",
    "            p_id = retweet[\"parent\"]\n",
    "            if p_id not in rel:\n",
    "                rel[p_id] = [r_id]\n",
    "            else:\n",
    "                rel[p_id].append(r_id)\n",
    "        max_val = 0\n",
    "        for val in rel.values():\n",
    "            max_val = max(len(val), max_val)\n",
    "        degrees.append(max_val)\n",
    "\n",
    "    return degrees\n",
    "\n",
    "fake_degrees = process_samples(fake, origin)\n",
    "nonfake_degrees = process_samples(nonfake, origin)\n",
    "f_max= np.max(fake_degrees)\n",
    "nf_max= np.max(nonfake_degrees)\n",
    "print(f_max, nf_max)"
   ]
  },
  {
   "cell_type": "code",
   "execution_count": 2,
   "metadata": {
    "pycharm": {
     "name": "#%%\n"
    }
   },
   "outputs": [],
   "source": [
    "def read_pkl(file):\n",
    "    with open(file, \"rb\") as f:\n",
    "        data = pkl.load(f)\n",
    "    return data\n",
    "repr_folder = f\"./MDPP/output/reprs/{dataset}\"\n",
    "fake_file = os.path.join(repr_folder, f\"f_degree_entropy_time.pkl\")\n",
    "nonfake_file = os.path.join(repr_folder, f\"nf_degree_entropy_time.pkl\")\n",
    "f_entropy = read_pkl(fake_file)\n",
    "nf_entropy = read_pkl(nonfake_file)"
   ]
  },
  {
   "cell_type": "code",
   "execution_count": 3,
   "metadata": {
    "pycharm": {
     "name": "#%%\n"
    }
   },
   "outputs": [
    {
     "name": "stdout",
     "output_type": "stream",
     "text": [
      "11765\n"
     ]
    }
   ],
   "source": [
    "f_mids = [mid for mid in f_entropy]\n",
    "nf_mids = [mid for mid in nf_entropy]\n",
    "mids = f_mids + nf_mids\n",
    "print(len(mids))"
   ]
  },
  {
   "cell_type": "code",
   "execution_count": 27,
   "metadata": {
    "pycharm": {
     "name": "#%%\n"
    }
   },
   "outputs": [
    {
     "data": {
      "image/png": "[encoded data removed]",
      "text/plain": [
       "<Figure size 432x288 with 1 Axes>"
      ]
     },
     "metadata": {
      "needs_background": "light"
     },
     "output_type": "display_data"
    }
   ],
   "source": [
    "# mid = \"AB8TGq5nn\"\n",
    "# # Y = f_entropy[\"zyBxAfVCi\"]\n",
    "# Y = f_entropy[mid]\n",
    "# X = [i for i in range(0, len(Y))]\n",
    "# plt.plot(X, Y, color=\"red\")\n",
    "# plt.show()"
   ]
  },
  {
   "cell_type": "code",
   "execution_count": 4,
   "metadata": {
    "pycharm": {
     "name": "#%%\n"
    }
   },
   "outputs": [],
   "source": [
    "from collections import Counter\n",
    "import numpy as np\n",
    "import random\n",
    "from datetime import datetime\n",
    "import pandas as pd\n",
    "# u1=2\n",
    "# alpha=1\n",
    "# u2=0.3\n",
    "# beta=1\n",
    "# down = np.exp(-u1)*alpha\n",
    "# up = np.exp(-u2)*beta\n",
    "# print(down, up)\n",
    "def draw_stages(mid, X, Y, tags, label):\n",
    "    if label == 0:\n",
    "        name = \"fake\"\n",
    "        color = \"red\"\n",
    "    else:\n",
    "        name = \"nonfake\"\n",
    "        color = \"blue\"\n",
    "    X_tag = []\n",
    "    Y_tag = []\n",
    "    for items in tags:\n",
    "        X_tag.append(items[0])\n",
    "        Y_tag.append(items[1])\n",
    "    plt.clf()\n",
    "\n",
    "    plt.plot(X, Y, color=color)\n",
    "    plt.scatter(X_tag, Y_tag, color=\"black\", s=10)\n",
    "    plt.xlabel(\"Time\")\n",
    "    plt.ylabel(\"Entropy\")\n",
    "    # plt.show()\n",
    "    plt.savefig(f\"{dataset}_stages_{mid}_{name}.pdf\")"
   ]
  },
  {
   "cell_type": "code",
   "execution_count": 5,
   "metadata": {
    "pycharm": {
     "name": "#%%\n"
    }
   },
   "outputs": [],
   "source": [
    "\n",
    "l = []\n",
    "def plot_fig(mid,X,Y,label):\n",
    "    # Y = Y[:96]\n",
    "    # X = X[:96]\n",
    "    # ups = [0.1 * i for i in range(1,100)]\n",
    "    up = 0.08\n",
    "    tags = []\n",
    "    # print(mid, Y)\n",
    "    # print(\"Y:\", len(Y))\n",
    "    for item in range(1, len(Y)-1):\n",
    "        if early != 0 and (item+1)*15 > early * 60:\n",
    "            break\n",
    "        d_k1 = Y[item]-Y[item-1]\n",
    "        d_k2 = Y[item+1]-Y[item]\n",
    "        d = np.abs(d_k1-d_k2)/(1+d_k1*d_k2)\n",
    "        if d > up:\n",
    "            tags.append((item,Y[item]))\n",
    "    if len(tags) == 0:\n",
    "        print(mid, len(Y))\n",
    "    l.append(len(Y))\n",
    "\n",
    "    # draw_stages(mid, X,Y,tags, label)\n",
    "\n",
    "    return tags"
   ]
  },
  {
   "cell_type": "code",
   "execution_count": 18,
   "metadata": {
    "pycharm": {
     "name": "#%%\n"
    }
   },
   "outputs": [
    {
     "data": {
      "image/png": "[encoded data removed]",
      "text/plain": [
       "<Figure size 432x288 with 1 Axes>"
      ]
     },
     "metadata": {
      "needs_background": "light"
     },
     "output_type": "display_data"
    }
   ],
   "source": [
    "f_selected_mids = [\"AARuF0nyt\",\"CvW2gf8M3\",\"GdBHGhPvw\"]\n",
    "nf_selected_mids = [\"HoFiR7HmY\",\"yxAQ1vStp\",\"zoV7Ze2Vr\"]\n",
    "for mid in f_selected_mids:\n",
    "    Y = f_entropy[mid]\n",
    "    if len(Y) > 96:\n",
    "        Y = Y[:96]\n",
    "    X = [i for i in range(0, len(Y))]\n",
    "    plot_fig(mid, X, Y,0)\n",
    "\n",
    "for mid in nf_selected_mids:\n",
    "    Y = nf_entropy[mid]\n",
    "    if len(Y) > 96:\n",
    "        Y = Y[:96]\n",
    "    X = [i for i in range(0, len(Y))]\n",
    "    plot_fig(mid, X, Y,1)"
   ]
  },
  {
   "cell_type": "code",
   "execution_count": 7,
   "metadata": {
    "pycharm": {
     "name": "#%%\n"
    }
   },
   "outputs": [
    {
     "name": "stdout",
     "output_type": "stream",
     "text": [
      "AA4hbfNXn 2\n",
      "DBiBmzsmU 2\n",
      "BgD0t7Skc 2\n",
      "F7sTVv5ek 2\n",
      "E3Jkbpq3P 2\n",
      "zA4lx40CA 2\n",
      "zyCDm9Tji 2\n",
      "Bpo9jvGvJ 2\n",
      "CvxZV1szu 2\n",
      "AA42ic6ow 1\n",
      "zx7Qnwc8S 1\n",
      "GzBRixD6b 2\n",
      "F5v4Xvm4S 3874\n",
      "zE5K38Gnr 1\n",
      "zmCsX3DzU 2\n",
      "AmxUyzgTM 2\n",
      "C3Eys4L5r 274\n",
      "E2ym8yXP4 2\n",
      "zsnItnVHJ 2\n",
      "ztB5FhLau 2\n",
      "BbH764Sro 745\n",
      "zt2UkubJr 1\n",
      "Hn8GH9KW6 2\n",
      "HoFzzEkkz 2248\n",
      "Cqm3EnL54 2\n",
      "CwLPG7scp 27\n",
      "HmDarB9Sy 1\n",
      "Hr6tDpayg 1578\n",
      "Ge3ik4WeE 1\n",
      "GcPEUvpa9 1\n",
      "F6HqZkaSi 2\n",
      "HokZEkfVm 33\n",
      "GcPiD5cYz 1\n",
      "Hr7SzbjzX 618\n",
      "GzC9ObUsF 2\n",
      "Hr6pAfDtv 893\n",
      "FaQ9tCJdn 1\n",
      "HfyAzowC2 5\n",
      "HqadsfrQ3 2\n",
      "yiRnkxZGj 9\n",
      "AgPgKwY7U 189172\n",
      "HqQgP76mD 142\n",
      "HqeYmE4s5 922\n",
      "HqUnXqJY8 2\n",
      "HqbUElKLQ 1\n",
      "yqByU2uuS 3\n",
      "Gff7IfbkT 1\n",
      "znrMA3SVC 52297\n",
      "F7YfomCOO 2\n",
      "xCgV5dUpP 1171\n",
      "EAOHusp2x 1\n",
      "Bk3HRBGUw 1193\n",
      "zir7zn6gS 2\n",
      "yqHSuxaEw 1\n",
      "zfahhqFmj 1\n",
      "HmpRM2PEr 6\n",
      "Hm8YEmtIp 2681\n",
      "Hr661wUfu 570\n",
      "GcPoh0rir 2\n",
      "GcyFLjYYM 15545\n",
      "Ho3tD9bgJ 1834\n",
      "GcyFzyFp3 15982\n",
      "Counter({7: 883, 5: 789, 9: 759, 8: 747, 6: 745, 4: 695, 11: 658, 3: 647, 10: 622, 13: 567, 12: 550, 14: 516, 18: 496, 16: 459, 15: 452, 2: 442, 17: 334, 1: 241, 19: 211, 20: 205, 21: 137, 22: 132, 23: 101, 24: 75, 0: 62, 26: 49, 25: 46, 28: 28, 29: 27, 27: 25, 30: 15, 32: 10, 31: 8, 36: 8, 33: 7, 34: 7, 35: 3, 40: 2, 37: 2, 41: 1, 38: 1, 39: 1})\n"
     ]
    },
    {
     "data": {
      "image/png": "[encoded data removed]",
      "text/plain": [
       "<Figure size 360x360 with 1 Axes>"
      ]
     },
     "metadata": {
      "needs_background": "light"
     },
     "output_type": "display_data"
    }
   ],
   "source": [
    "from collections import Counter\n",
    "def Draw_loglog(X, Y, labels, name):\n",
    "    X = np.array(X)\n",
    "    Y = np.array(Y)\n",
    "\n",
    "    fontsize = 16\n",
    "\n",
    "    fig, ax = plt.subplots(1,1, figsize=(5, 5))\n",
    "    ax.set_xscale(\"log\")\n",
    "    ax.set_yscale(\"log\")\n",
    "    ax.scatter(X, Y,s=10, c='black')\n",
    "    # ax.set_xticks(fontsize=fontsize)\n",
    "    # ax.set_yticks(fontsize=fontsize)\n",
    "    ax.set_xlabel(labels[0], fontsize=fontsize)\n",
    "    ax.set_ylabel(labels[1], fontsize=fontsize)\n",
    "    fig.savefig(f\"{dataset}-{name}.pdf\")\n",
    "\n",
    "l_Tags = []\n",
    "for mid in mids:\n",
    "    label = -1\n",
    "    if mid in f_entropy:\n",
    "        Y = f_entropy[mid]\n",
    "        label = 0\n",
    "    elif mid in nf_entropy:\n",
    "        Y = nf_entropy[mid]\n",
    "        label = 1\n",
    "    else:\n",
    "        continue\n",
    "    # if len(Y) > 96:\n",
    "    #     Y = Y[:96]\n",
    "    X = [i for i in range(0, len(Y))]\n",
    "    tags = plot_fig(mid, X, Y,label)\n",
    "    l_Tags.append(len(tags))\n",
    "# print(l_Tags[:10])\n",
    "res = Counter(l_Tags)\n",
    "X = []\n",
    "Y = []\n",
    "for k, v in res.items():\n",
    "    X.append(k)\n",
    "    Y.append(v)\n",
    "Draw_loglog(X,Y,[\"Number of Stages\",\"Number of Origin Tweets\"],\"Stages\")\n",
    "print(res)"
   ]
  },
  {
   "cell_type": "code",
   "execution_count": null,
   "metadata": {
    "pycharm": {
     "name": "#%%\n"
    }
   },
   "outputs": [],
   "source": [
    "Tags = {}\n",
    "fYs = []\n",
    "nfYs = []\n",
    "label_f = 0\n",
    "label_nf = 0\n",
    "random.shuffle(mids)\n",
    "cnt = 0\n",
    "for mid in mids:\n",
    "    label = -1\n",
    "    if mid in f_entropy:\n",
    "        Y = f_entropy[mid]\n",
    "        label = 0\n",
    "    elif mid in nf_entropy:\n",
    "        Y = nf_entropy[mid]\n",
    "        label = 1\n",
    "    else:\n",
    "        continue\n",
    "    if len(Y) > 96:\n",
    "        Y = Y[:96]\n",
    "    X = [i for i in range(0, len(Y))]\n",
    "    plot_fig(mid, X, Y,label)\n",
    "    cnt += 1\n",
    "    if cnt>=10:\n",
    "        break"
   ]
  },
  {
   "cell_type": "code",
   "execution_count": null,
   "metadata": {
    "pycharm": {
     "name": "#%%\n"
    }
   },
   "outputs": [],
   "source": [
    "Tags = {}\n",
    "fYs = []\n",
    "nfYs = []\n",
    "label_f = 0\n",
    "label_nf = 0\n",
    "random.shuffle(mids)\n",
    "selected_mids = []\n",
    "for mid in mids:\n",
    "    label = -1\n",
    "    if mid in f_entropy:\n",
    "        Y = f_entropy[mid]\n",
    "        label = 0\n",
    "        selected_mids.append(mid)\n",
    "    elif mid in nf_entropy:\n",
    "        Y = nf_entropy[mid]\n",
    "        label = 1\n",
    "        selected_mids.append(mid)\n",
    "    else:\n",
    "        continue\n",
    "    if len(Y) > 96 :\n",
    "        if label_f < 5 and label == 0:\n",
    "            fYs.append(np.array(Y[:96]))\n",
    "            label_f += 1\n",
    "        if label_nf < 5 and label == 1:\n",
    "            nfYs.append(np.array(Y[:96]))\n",
    "            label_nf += 1\n",
    "    X = [i for i in range(0, len(Y))]\n",
    "    # tags = plot_fig(mid,X,Y)\n",
    "    # Tags[mid] = tags\n",
    "\n",
    "    if label_f >= 5 and label_nf >= 5:\n",
    "        break\n",
    "    # if len(Tags) > 5:\n",
    "    #     break\n",
    "fYs = np.array(fYs)\n",
    "nfYs = np.array(nfYs)\n",
    "# print(Ys.shape)\n",
    "fYs = np.mean(fYs,axis=0)\n",
    "nfYs = np.mean(nfYs,axis=0)\n",
    "# print(Ys.shape)\n",
    "X = [i for i in range(0, len(fYs))]\n",
    "plt.plot(X, fYs, color=\"red\")\n",
    "plt.plot(X, nfYs, color=\"blue\")\n",
    "plt.xlabel(\"Time\")\n",
    "plt.ylabel(\"Entropy\")\n",
    "currentDateAndTime = datetime.now()\n",
    "currentTime = currentDateAndTime.strftime(\"%Y-%m-%d %H:%M:%S\")\n",
    "plt.savefig(f\"./entropy_figs/{dataset}-entropy-{currentTime}.pdf\")\n",
    "selected_mids = \",\".join(selected_mids)\n",
    "res = {}\n",
    "res[\"time\"] = currentTime\n",
    "res[\"selected_mids\"] = selected_mids\n",
    "df = pd.DataFrame(res, index=[0])\n",
    "res_file = f\"./entropy_figs/selected_mids.csv\"\n",
    "if os.path.exists(cnf.result_file):\n",
    "    df.to_csv(res_file, mode='a', header=False, index=False)\n",
    "else:\n",
    "    df.to_csv(res_file, mode='a', header=True, index=False)"
   ]
  },
  {
   "cell_type": "code",
   "execution_count": 78,
   "metadata": {
    "pycharm": {
     "name": "#%%\n"
    }
   },
   "outputs": [],
   "source": []
  },
  {
   "cell_type": "code",
   "execution_count": 91,
   "metadata": {
    "pycharm": {
     "name": "#%%\n"
    }
   },
   "outputs": [],
   "source": [
    "# if early==0:\n",
    "#     tagfile = os.path.join(cnf.datafolder,\"tags.pkl\")\n",
    "# else:\n",
    "#     tagfile = os.path.join(cnf.datafolder,f\"tags_{str(early)}.pkl\")\n",
    "tagfile = cnf.tagsfile\n",
    "with open(tagfile, \"wb\") as f:\n",
    "    pkl.dump(Tags,f)\n"
   ]
  },
  {
   "cell_type": "code",
   "execution_count": 30,
   "metadata": {
    "pycharm": {
     "name": "#%%\n"
    }
   },
   "outputs": [
    {
     "name": "stdout",
     "output_type": "stream",
     "text": [
      "(0, 990)\n",
      "(1, 634)\n",
      "(2, 474)\n",
      "(3, 595)\n",
      "(4, 434)\n",
      "(5, 421)\n",
      "(6, 359)\n",
      "(7, 299)\n",
      "(8, 222)\n",
      "(9, 205)\n",
      "(10, 175)\n",
      "(11, 141)\n",
      "(12, 131)\n",
      "(13, 96)\n",
      "(14, 92)\n",
      "(15, 70)\n",
      "(16, 64)\n",
      "(17, 39)\n",
      "(18, 36)\n",
      "(19, 43)\n",
      "(20, 30)\n",
      "(21, 30)\n",
      "(22, 27)\n",
      "(23, 14)\n",
      "(24, 20)\n",
      "(25, 13)\n",
      "(26, 12)\n",
      "(27, 9)\n",
      "(28, 10)\n",
      "(29, 9)\n",
      "(30, 7)\n",
      "(31, 11)\n",
      "(32, 4)\n",
      "(33, 2)\n",
      "(34, 3)\n",
      "(35, 3)\n",
      "(36, 4)\n",
      "(37, 4)\n",
      "(39, 2)\n",
      "(41, 1)\n",
      "(43, 1)\n",
      "(45, 2)\n",
      "(51, 1)\n",
      "(53, 1)\n",
      "(60, 1)\n"
     ]
    }
   ],
   "source": [
    "# 各样本分了多少阶段\n",
    "cnt = 0\n",
    "stages = []\n",
    "for k,v in Tags.items():\n",
    "    stages.append(len(v))\n",
    "res = Counter(stages)\n",
    "tmp = []\n",
    "for k,v in res.items():\n",
    "    tmp.append((k,v))\n",
    "tmp = sorted(tmp, key=lambda x:x[0])\n",
    "for item in tmp:\n",
    "    print(item)"
   ]
  },
  {
   "cell_type": "code",
   "execution_count": 20,
   "metadata": {
    "pycharm": {
     "name": "#%%\n"
    }
   },
   "outputs": [
    {
     "name": "stdout",
     "output_type": "stream",
     "text": [
      "fake EdHkayXRF\n",
      "fake AcdpNkaSh\n",
      "nonfake AxVzS7Hku\n",
      "fake A3V2lksJm\n",
      "nonfake DvNXGbng7\n",
      "nonfake F916W16mf\n",
      "fake DzVjG2pXl\n",
      "nonfake G8JWo3UMX\n",
      "fake znjFtDdL5\n",
      "nonfake HdJd4d1sH\n",
      "nonfake zBRxTwDkU\n"
     ]
    }
   ],
   "source": [
    "from utils.util import read_origin, read_retweets, time_interval\n",
    "\n",
    "datafolder = f\"./data/{dataset}\"\n",
    "origin = read_origin(cnf.originfolder)\n",
    "fake = read_retweets(cnf.fakefolder)\n",
    "nonfake = read_retweets(cnf.nonfakefolder)\n",
    "selected_mids = \"EdHkayXRF,AcdpNkaSh,AxVzS7Hku,A3V2lksJm,DvNXGbng7,F916W16mf,DzVjG2pXl,G8JWo3UMX,znjFtDdL5,HdJd4d1sH,zBRxTwDkU\"\n",
    "selected_mids = selected_mids.split(\",\")\n",
    "def get_Relation(Retweets):\n",
    "    Relation = {}\n",
    "    leaf_num = []\n",
    "    for mid, retweets in Retweets:\n",
    "        children = {}\n",
    "        if len(retweets) == 0:\n",
    "            continue\n",
    "        for retweet in retweets:\n",
    "            if retweet[\"parent\"] == \"\":\n",
    "                parent_id = mid\n",
    "            else:\n",
    "                parent_id = retweet[\"parent\"]\n",
    "            if parent_id in children:\n",
    "                children[parent_id].append(retweet[\"mid\"])\n",
    "            else:\n",
    "                children[parent_id] = [retweet[\"mid\"]]\n",
    "        Relation[mid] = children\n",
    "        leaf_num.append(len(retweets) + 1 - len(children))\n",
    "    return Relation, leaf_num\n",
    "fake_Relation,_ = get_Relation(fake)\n",
    "nonfake_Relation,_ = get_Relation(nonfake)\n",
    "for mid in selected_mids:\n",
    "    if mid in fake_Relation:\n",
    "        relation = fake_Relation[mid]\n",
    "        print(\"fake\",mid)\n",
    "    else:\n",
    "        relation = nonfake_Relation[mid]\n",
    "        print(\"nonfake\",mid)\n",
    "    infos = {}\n",
    "    infos[\"parent\"] = []\n",
    "    infos[\"child\"] = []\n",
    "    for p,c in relation.items():\n",
    "        for item in c:\n",
    "            infos[\"parent\"].append(p)\n",
    "            infos[\"child\"].append(item)\n",
    "\n",
    "    df = pd.DataFrame(infos)\n",
    "    info_file = f\"./entropy_figs/node_pairs_{mid}.csv\"\n",
    "    if os.path.exists(cnf.result_file):\n",
    "        df.to_csv(info_file, mode='a', header=False, index=None)\n",
    "    else:\n",
    "        df.to_csv(info_file, mode='a', header=True, index=None)\n"
   ]
  }
 ],
 "metadata": {
  "kernelspec": {
   "display_name": "pytorch_env",
   "language": "python",
   "name": "pytorch_env"
  },
  "language_info": {
   "codemirror_mode": {
    "name": "ipython",
    "version": 3
   },
   "file_extension": ".py",
   "mimetype": "text/x-python",
   "name": "python",
   "nbconvert_exporter": "python",
   "pygments_lexer": "ipython3",
   "version": "3.7.11"
  }
 },
 "nbformat": 4,
 "nbformat_minor": 1
}
